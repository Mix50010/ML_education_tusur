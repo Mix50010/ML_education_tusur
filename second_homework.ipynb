{
 "cells": [
  {
   "cell_type": "markdown",
   "id": "96360ed8",
   "metadata": {},
   "source": [
    "# 4.6 Задачи"
   ]
  },
  {
   "cell_type": "markdown",
   "id": "6af4b7ba",
   "metadata": {},
   "source": [
    "## 1. Среднее\n",
    "Дано: 3 случайных числа.\n",
    "\n",
    "Задание: написать программу, которая будет вычислять среднее значение этих чисел.\n",
    "\n",
    "Пример: (52 + 56 + 60) / 3 = 56"
   ]
  },
  {
   "cell_type": "code",
   "execution_count": 16,
   "id": "d251af9c",
   "metadata": {},
   "outputs": [
    {
     "name": "stdout",
     "output_type": "stream",
     "text": [
      "Enter the upper plank of numbers for random module: 150\n",
      "The average of 3 random nums is 51.0\n"
     ]
    }
   ],
   "source": [
    "import random #встроенный модуль для работы со случайными числами \n",
    "maximum = int(input(\"Enter the upper plank of numbers for random module: \")) # верхняя планка для randrange\n",
    "num1, num2 , num3 = random.randrange(maximum), random.randrange(maximum), random.randrange(maximum)\n",
    "# randrange возвращает случайное число из сформированной выборки\n",
    "average = (num1 + num2 + num3) / 3\n",
    "print(f\"The average of 3 random nums is {round(average, 2)}\") \n",
    "# round(float, int) - возвращает float округленный до int знаков после запятой"
   ]
  },
  {
   "cell_type": "markdown",
   "id": "f628710e",
   "metadata": {},
   "source": [
    "## 2. Деление и еще раз деление\n",
    "Дано: 2 случайных числа.\n",
    "\n",
    "Задание: написать программу, которая будет печать результат целочисленного деления этих чисел, а также остаток от деления первого от второго.\n",
    "\n",
    "Пример:\n",
    "\n",
    " x = 177 и y = 10\n",
    "\n",
    "Результат:\n",
    " 17, 7"
   ]
  },
  {
   "cell_type": "code",
   "execution_count": 20,
   "id": "22d66c9b",
   "metadata": {},
   "outputs": [
    {
     "name": "stdout",
     "output_type": "stream",
     "text": [
      "Enter the upper plank of numbers for random module: 100\n",
      "The first num is 56, the second num is 4\n",
      "The result of integer division is 14\n",
      "The division remainder is 0\n"
     ]
    }
   ],
   "source": [
    "import random #встроенный модуль для работы со случайными числами\n",
    "maximum = int(input(\"Enter the upper plank of numbers for random module: \")) # верхняя планка для randrange\n",
    "num1, num2 = random.randrange(maximum), random.randrange(maximum)\n",
    "# randrange возвращает случайное число из сформированной выборки\n",
    "print(f\"The first num is {num1}, the second num is {num2}\")\n",
    "print(f\"The result of integer division is {num1 // num2}\")\n",
    "print(f\"The division remainder is {num1 % num2}\")"
   ]
  },
  {
   "cell_type": "markdown",
   "id": "8477a01a",
   "metadata": {},
   "source": [
    "## 3. Округление\n",
    "Дано: число с плавающей точкой.\n",
    "\n",
    "Задание: написать программу, которая будет округлять заданное число:\n",
    "\n",
    "1) 2х знаков после запятой; 2) до целого; 3) дополнять слева столько нулей, сколько не хватает числу до 11 знаков.\n",
    "\n",
    "Пример:\n",
    "\n",
    "x = 14.721\n",
    "\n",
    "1) 14.72\n",
    "\n",
    "2) 15\n",
    "\n",
    "3) 0000014.721"
   ]
  },
  {
   "cell_type": "code",
   "execution_count": 28,
   "id": "1e49b888",
   "metadata": {},
   "outputs": [
    {
     "name": "stdout",
     "output_type": "stream",
     "text": [
      "Enter the float number, please!12.343\n",
      "Number rounded by second after comma: 12.34\n",
      "Number rounded by integer: 12.0\n",
      "Number expanded with zeros:0000012.343\n"
     ]
    }
   ],
   "source": [
    "num = float(input(\"Enter the float number, please!\"))\n",
    "print(f\"Number rounded by second after comma: {round(num, 2)}\")\n",
    "print(f\"Number rounded by integer: {round(num, 0)}\")\n",
    "print(\"Number expanded with zeros:\" + str(num).rjust(11, \"0\"))\n"
   ]
  },
  {
   "cell_type": "markdown",
   "id": "13f57d2a",
   "metadata": {},
   "source": [
    "## [Junior] 4. Число \"наоборот\"\n",
    "Дано: целое число (int).\n",
    "\n",
    "Задание: написать программу, которая будет инвертировать целое число\n",
    "\n",
    "Пример:\n",
    "\n",
    "1) x = 123 -> 321 2) x = -325 -> -523 3) x = 0 -> 0"
   ]
  },
  {
   "cell_type": "code",
   "execution_count": 53,
   "id": "16518ba3",
   "metadata": {},
   "outputs": [
    {
     "name": "stdout",
     "output_type": "stream",
     "text": [
      "-123\n",
      "-321\n"
     ]
    }
   ],
   "source": [
    "num = input()\n",
    "if \"-\" not in num: \n",
    "    print(num[::-1]) # реверсим через срезы \n",
    "else: \n",
    "    print(num[0] + num[:0:-1])\n",
    "\n"
   ]
  },
  {
   "cell_type": "markdown",
   "id": "7014f019",
   "metadata": {},
   "source": [
    "## [Junior+] 5. Число \"наоборот\" (усложненное)\n",
    "Дано: целое число (int).\n",
    "\n",
    "Задание: написать программу, которая будет инвертировать целое число. Если инвертированное число выходит за границы (32-bit integer)\n",
    "\n",
    "Пример:\n",
    "\n",
    "1) x = 123 -> 321 2) x = -325 -> -523 3) x = 0 -> 0 4) x = 1563847412 -> 0"
   ]
  },
  {
   "cell_type": "code",
   "execution_count": 50,
   "id": "58f3b53e",
   "metadata": {},
   "outputs": [
    {
     "name": "stdout",
     "output_type": "stream",
     "text": [
      "123\n",
      "321\n"
     ]
    }
   ],
   "source": [
    "num = input()\n",
    "if \"-\" not in num: # для работы с отрицательными числами алгоритм делится на два этапа\n",
    "    if abs(int(num[::-1])) <= 2 ** 31: # проверям соотв. ли число условию по signed 32bit int\n",
    "        print(num[::-1]) # печатаем наоборот\n",
    "    else:\n",
    "        print(0)\n",
    "else:\n",
    "    if abs(int(num[0] + num[:0:-1])) <= 2 ** 31:\n",
    "        print(num[0] + num[:0:-1])\n",
    "    else:\n",
    "        print(0)\n",
    "\n",
    "\n",
    "    \n",
    "    \n"
   ]
  }
 ],
 "metadata": {
  "kernelspec": {
   "display_name": "Python 3 (ipykernel)",
   "language": "python",
   "name": "python3"
  },
  "language_info": {
   "codemirror_mode": {
    "name": "ipython",
    "version": 3
   },
   "file_extension": ".py",
   "mimetype": "text/x-python",
   "name": "python",
   "nbconvert_exporter": "python",
   "pygments_lexer": "ipython3",
   "version": "3.10.6"
  }
 },
 "nbformat": 4,
 "nbformat_minor": 5
}
