{
 "cells": [
  {
   "cell_type": "markdown",
   "id": "41e1d0b3",
   "metadata": {},
   "source": [
    "## 1. Fizz Buzz\n",
    "Дано: Число, как целочисленное (int).\n",
    "\n",
    "Задание:\n",
    "\n",
    "\"Fizz buzz\" это игра со словами, с помощью которой мы будем учить наших роботов делению. Давайте обучим компьютер.\n",
    "\n",
    "Вы должны написать программу, которая принимает положительное целое число и возвращает сл. значения.\n",
    "\n",
    "\"Fizz Buzz\", если число делится на 3 и 5;\n",
    "\"Fizz\", если число делится на 3;\n",
    "\"Buzz\", если число делится на 5;\n",
    "Число, как строку для остальных случаев.\n",
    "\n",
    "Пример:\n",
    "\n",
    " x = 15, результат: \"Fizz Buzz\"\n",
    "\n",
    " x = 6, результат: \"Fizz\"     \n",
    "\n",
    " x = 5, результат: \"Buzz\"   \n",
    "\n",
    " x = 7, результат: \"7\" \n"
   ]
  },
  {
   "cell_type": "code",
   "execution_count": 12,
   "id": "8c9e5462",
   "metadata": {},
   "outputs": [
    {
     "name": "stdout",
     "output_type": "stream",
     "text": [
      "213\n",
      "Fizz\n"
     ]
    }
   ],
   "source": [
    "number = int(input()) \n",
    "if number % 3 == 0 and number % 5 == 0: \n",
    "    print(\"Fizz Buzz\")\n",
    "elif number % 3 == 0:\n",
    "    print(\"Fizz\")\n",
    "elif number % 5 == 0:\n",
    "    print(\"Buzz\")\n",
    "else:\n",
    "    print(number)"
   ]
  },
  {
   "cell_type": "markdown",
   "id": "84ea51e3",
   "metadata": {},
   "source": [
    "## 2. Оценка числа\n",
    "Дано: Число x.\n",
    "\n",
    "Задание: нужно написать программу, которая дает оценку заданному значению, используя следующие правила.\n",
    "\n",
    "если x нечетное, то это \"Плохо\"\n",
    "если x = [2, 5] и четное, то это \"Неплохо\"\n",
    "если x = [6, 20] и четное, то это \"Так себе\"\n",
    "если x > 20 и четное, то это \"Отлично\"\n",
    "Пример:\n",
    "\n",
    " x = 15, результат: \"Плохо\"\n",
    "\n",
    " x = 4, результат: \"Неплохо\"     \n",
    "\n",
    " x = 8, результат: \"Так себе\"   \n",
    "\n",
    " x = 24, результат: \"Отлично\" "
   ]
  },
  {
   "cell_type": "code",
   "execution_count": 18,
   "id": "d126445c",
   "metadata": {},
   "outputs": [
    {
     "name": "stdout",
     "output_type": "stream",
     "text": [
      "21\n",
      "Плохо\n"
     ]
    }
   ],
   "source": [
    "number = int(input())\n",
    "if number % 2 == 0:\n",
    "    if 20 < number :\n",
    "        print(\"Отлично\")\n",
    "    elif 6 <= number <= 20:\n",
    "        print(\"Так себе\")\n",
    "    elif 2 <= number <= 5:\n",
    "        print(\"Неплохо\")\n",
    "else:\n",
    "    print(\"Плохо\")"
   ]
  },
  {
   "cell_type": "markdown",
   "id": "7048f8cf",
   "metadata": {},
   "source": [
    "## 3. Последовательность\n",
    "Дано: Число N = [1-9].\n",
    "\n",
    "Задание: нужно написать программу, которая выведет последовательность 123..N\n",
    "\n",
    "Пример:\n",
    "\n",
    " N = 3, результат: 123\n",
    "\n",
    " N = 9, результат: 123456789     \n",
    "\n",
    " x = 1, результат: 1"
   ]
  },
  {
   "cell_type": "code",
   "execution_count": 25,
   "id": "3e5c4941",
   "metadata": {},
   "outputs": [
    {
     "name": "stdout",
     "output_type": "stream",
     "text": [
      "9\n",
      "123456789"
     ]
    }
   ],
   "source": [
    "N = int(input())\n",
    "for i in range(1, N+1):\n",
    "    print(i, end=\"\") # изменим end чтобы числа выводились без пробела"
   ]
  },
  {
   "cell_type": "markdown",
   "id": "45b15564",
   "metadata": {},
   "source": [
    "## 4. Секретное сообщение\n",
    "\"Где умный человек прячет лист? В лесу. Но что если леса нет? ... Он выращивает лес и прячет его там.\" -- Гилберт Кит Честертон\n",
    "\n",
    "Когда-нибудь пробовали отправить секретное сообщение кому-то не пользуясь услугами почты? Вы можете использовать газету, чтобы рассказать кому-то свой секрет. Даже если кто-то найдет ваше сообщение, легко отмахнуться и сказать что это паранойя и теория заговора. Один из самых простых способов спрятать ваше секретное сообщение это использовать заглавные буквы. Давайте найдем несколько таких секретных сообщений.\n",
    "\n",
    "Дано: Дан кусок текста (str).\n",
    "\n",
    "Задание: Соберите все заглавные буквы в одно слово в том порядке как они встречаются в куске текста. Подсказка: посмотрите внимательно на методы класса str.\n",
    "\n",
    "Пример:\n",
    "\n",
    " текст = \"How are you? Eh, ok. Low or Lower? Ohhh.\", если мы соберем все заглавные буквы, то получим сообщение \"HELLO\".\n",
    " "
   ]
  },
  {
   "cell_type": "code",
   "execution_count": 29,
   "id": "b4721dfb",
   "metadata": {},
   "outputs": [
    {
     "name": "stdout",
     "output_type": "stream",
     "text": [
      "\"How are you? Eh, ok. Low or Lower? Ohhh.\n",
      "HELLO\n"
     ]
    }
   ],
   "source": [
    "input_str = input()\n",
    "output_str = [letter for letter in input_str if letter.isupper()] # пройдемся генератором используя метод str.isupper()\n",
    "print(*output_str, sep='') # выведем используя распаковку и изменив разделитель чтобы выводилось без пробелов"
   ]
  },
  {
   "cell_type": "markdown",
   "id": "c26216c8",
   "metadata": {},
   "source": [
    "## [Junior] 5. Три слова\n",
    "Давайте научим наших роботов отличать слова от чисел.\n",
    "\n",
    "Дана строка со словами и числами, разделенными пробелами (один пробел между словами и/или числами). Слова состоят только из букв.\n",
    "\n",
    "Дано: Строка со словами (str).\n",
    "\n",
    "Задание: напишите программу, которая проверяет есть ли в исходной строке три слова подряд. Для примера, в строке \"start 5 one two three 7 end\" есть три слова подряд.\n",
    "\n",
    "Примеры:\n",
    "\n",
    "text = \"Hello World hello\", результат: True\n",
    "\n",
    "text = \"He is 123 man\", результат: False\n",
    "\n",
    "text = \"1 2 3 4\", результат: False"
   ]
  },
  {
   "cell_type": "code",
   "execution_count": 39,
   "id": "f1d17df7",
   "metadata": {},
   "outputs": [
    {
     "name": "stdout",
     "output_type": "stream",
     "text": [
      "Man\n",
      "False\n"
     ]
    }
   ],
   "source": [
    "input_words = input().split()\n",
    "third_row = False\n",
    "for i in range(len(input_words) - 2):\n",
    "    if input_words[i].isalpha(): # str.isalpha() проверяет на принадлежность к буквенным символам\n",
    "        if input_words[i + 1].isalpha():\n",
    "            if input_words[i + 2].isalpha():\n",
    "                third_row = True\n",
    "print(third_row)\n",
    "            \n",
    "    \n",
    "    \n"
   ]
  },
  {
   "cell_type": "markdown",
   "id": "37a5effa",
   "metadata": {},
   "source": [
    "## [Junior+] 6. Мир захватили левши\n",
    "На протяжении веков, левши страдали от дискриминации в мире, созданном для правшей.\" Santrock, John W. (2008). Motor, Sensory, and Perceptual Development.\n",
    "\n",
    "\"Большинство людей (70-95%) правши, меньшинство (5-30 %) левши, и неопределеное число людей вероятно лучше всего охарактеризовать, как \"симметричные\".\" Scientific American. www.scientificamerican.com\n",
    "\n",
    "Один робот был занят простой задачей: объединить последовательность строк в одно выражение для создания инструкции по обходу корабля. Но робот был левша и зачастую шутил и запутывал своих друзей правшей.\n",
    "\n",
    "Дано: последовательность строк.\n",
    "\n",
    "Задание: вы должны объединить эти строки в блок текста, разделив изначальные строки запятыми. В качестве шутки над праворукими роботами, вы должны заменить все вхождения слова \"right\" на слова \"left\", даже если это часть другого слова. Все строки даны в нижнем регистре.\n",
    "\n",
    "Примеры:\n",
    "\n",
    "[\"left\", \"right\", \"left\", \"stop\"], результат: \"left,left,left,stop\"\n",
    "\n",
    "[\"bright aright\", \"ok\"], результат: \"bleft aleft,ok\"\n",
    "\n",
    "[\"enough\", \"jokes\"], результат: \"enough,jokes\""
   ]
  },
  {
   "cell_type": "code",
   "execution_count": 44,
   "id": "56b197d1",
   "metadata": {},
   "outputs": [
    {
     "name": "stdout",
     "output_type": "stream",
     "text": [
      "bright alright rising left right\n",
      "bleft,alleft,rising,left,left\n"
     ]
    }
   ],
   "source": [
    "txt = input().split()\n",
    "for i in range(len(txt)):\n",
    "    if \"right\" in txt[i]:\n",
    "        txt[i] = txt[i].replace(\"right\", \"left\")\n",
    "print(','.join(txt))\n",
    "        "
   ]
  }
 ],
 "metadata": {
  "kernelspec": {
   "display_name": "Python 3 (ipykernel)",
   "language": "python",
   "name": "python3"
  },
  "language_info": {
   "codemirror_mode": {
    "name": "ipython",
    "version": 3
   },
   "file_extension": ".py",
   "mimetype": "text/x-python",
   "name": "python",
   "nbconvert_exporter": "python",
   "pygments_lexer": "ipython3",
   "version": "3.10.6"
  }
 },
 "nbformat": 4,
 "nbformat_minor": 5
}
