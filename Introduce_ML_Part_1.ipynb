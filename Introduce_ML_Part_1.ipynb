{
 "cells": [
  {
   "cell_type": "markdown",
   "metadata": {},
   "source": [
    "# Введение в машинное обучение. Часть 1"
   ]
  },
  {
   "cell_type": "markdown",
   "metadata": {
    "id": "jWUQZ7olS4Ts"
   },
   "source": [
    "# Задания"
   ]
  },
  {
   "cell_type": "markdown",
   "metadata": {
    "id": "d97xcXfZTIea"
   },
   "source": [
    "**Задача 1.**\n",
    "\n",
    "Даны четыре действительных числа: x1, y1, x2, y2. Напишите функцию distance(x1, y1, x2, y2), вычисляющая евклидово расстояние ( https://ru.wikipedia.org/wiki/%D0%95%D0%B2%D0%BA%D0%BB%D0%B8%D0%B4%D0%BE%D0%B2%D0%B0_%D0%BC%D0%B5%D1%82%D1%80%D0%B8%D0%BA%D0%B0 ) между точкой (x1,y1) и (x2,y2)."
   ]
  },
  {
   "cell_type": "code",
   "execution_count": 10,
   "metadata": {
    "id": "FwoN8YrfS8S9"
   },
   "outputs": [
    {
     "name": "stdout",
     "output_type": "stream",
     "text": [
      "1.4142135623730951\n"
     ]
    }
   ],
   "source": [
    "def distance(x1, y1, x2, y2):\n",
    "    return ((x1 - x2) ** 2 + (y1 - y2) ** 2) ** 0.5\n",
    "\n",
    "print(distance(1,1,2,2))"
   ]
  },
  {
   "cell_type": "markdown",
   "metadata": {
    "id": "04v60qczU_fi"
   },
   "source": [
    "**Задача 2.**\n",
    "\n",
    "Написать функцию season(month), принимающую 1 аргумент — номер месяца (от 1 до 12), которая присваивает глобальной переменной s время года, которому этот месяц принадлежит (зима, весна, лето или осень)."
   ]
  },
  {
   "cell_type": "code",
   "execution_count": 11,
   "metadata": {
    "id": "j56j5EvKWsy1"
   },
   "outputs": [
    {
     "name": "stdout",
     "output_type": "stream",
     "text": [
      "winter\n",
      "winter\n",
      "autumm\n",
      "autumm\n",
      "autumm\n",
      "summer\n",
      "summer\n",
      "summer\n",
      "spring\n",
      "spring\n",
      "spring\n",
      "winter\n"
     ]
    }
   ],
   "source": [
    "s= \"winter\"\n",
    "def season(month):\n",
    "    global s\n",
    "    if month < 3:\n",
    "        s = \"winter\"\n",
    "    elif month < 6:\n",
    "        s = \"autumm\"\n",
    "    elif month < 9:\n",
    "        s = \"summer\"\n",
    "    elif month < 12:\n",
    "        s = \"spring\"\n",
    "    else:\n",
    "        s = \"winter\"\n",
    "    return None\n",
    "\n",
    "for i in range(1,13):\n",
    "    season(i)\n",
    "    print(s)\n",
    "    \n"
   ]
  },
  {
   "cell_type": "markdown",
   "metadata": {
    "id": "Xo4YtE9XWwJ-"
   },
   "source": [
    "**Задача 3.**\n",
    "\n",
    "Написать функцию is_prime, принимающую 1 аргумент — число от 0 до 1000, и возвращающую True, если оно простое, и False - иначе."
   ]
  },
  {
   "cell_type": "code",
   "execution_count": 12,
   "metadata": {
    "id": "JaI9rY6cW0YA"
   },
   "outputs": [
    {
     "name": "stdout",
     "output_type": "stream",
     "text": [
      "0 - True\n",
      "1 - True\n",
      "2 - True\n",
      "3 - True\n",
      "4 - False\n",
      "5 - True\n",
      "6 - False\n",
      "7 - True\n",
      "8 - False\n",
      "9 - False\n",
      "10 - False\n",
      "11 - True\n",
      "12 - False\n",
      "13 - True\n",
      "14 - False\n",
      "15 - False\n",
      "16 - False\n",
      "17 - True\n",
      "18 - False\n",
      "19 - True\n"
     ]
    }
   ],
   "source": [
    "def is_prime(num):\n",
    "    is_prime = True\n",
    "    for i in range(2, num // 2 + 1): # нет смысла проверять числа > num // 2 + 1\n",
    "        if num % i == 0:\n",
    "            is_prime = False\n",
    "            break\n",
    "    return is_prime\n",
    "for i in range(20):\n",
    "    print(i, '-', is_prime(i))"
   ]
  },
  {
   "cell_type": "markdown",
   "metadata": {
    "id": "siBlTugkX5Il"
   },
   "source": [
    "**Задача 4.**\n",
    "\n",
    "Написать функцию reverse_list(lst), которая принимает в качестве аргумента список и возвращаем его в перевернутом виде.\n",
    "\n",
    "Например,\n",
    "- исходный список:  8, 1, 0, 4\n",
    "- полученный список: 4, 0, 1, 8\n",
    "\n",
    "Использовать встроенные функции Python нельзя. "
   ]
  },
  {
   "cell_type": "code",
   "execution_count": 13,
   "metadata": {
    "id": "6YqPaxokYT1_"
   },
   "outputs": [
    {
     "name": "stdout",
     "output_type": "stream",
     "text": [
      "[6, 5, 4, 3, 2, 1]\n"
     ]
    }
   ],
   "source": [
    "def reverse_list(lst):\n",
    "    reversed_lst = []\n",
    "    for i in range(-1, -len(lst) - 1, -1): # используем отрицательную индексацию\n",
    "        reversed_lst.append(lst[i])\n",
    "    return reversed_lst\n",
    "old_list = [1,2,3,4,5,6]\n",
    "new_list = reverse_list(old_list)\n",
    "print(new_list)"
   ]
  },
  {
   "cell_type": "markdown",
   "metadata": {
    "id": "4UUcGbHWr3wn"
   },
   "source": [
    "**Задача 5.**\n",
    "\n",
    "Распечатайте с 4 по 8 символ фразы \"Привет мир!\" приведенные к верхнему регистру."
   ]
  },
  {
   "cell_type": "code",
   "execution_count": 14,
   "metadata": {
    "id": "ICMD_GzvsETR"
   },
   "outputs": [
    {
     "name": "stdout",
     "output_type": "stream",
     "text": [
      "ВЕТ М\n"
     ]
    }
   ],
   "source": [
    "txt = \"Привет мир!\"\n",
    "print(txt[3:8].upper()) # используем срезы и встроенную функцию upper"
   ]
  },
  {
   "cell_type": "markdown",
   "metadata": {
    "id": "Ei25f1pVsQLt"
   },
   "source": [
    "**Задача 6.**\n",
    "\n",
    "Напишите код, который все элементы массива x с нечетными индексами переставит в обратном порядке.\n",
    "\n",
    "Т.е. если x = [0, 1, 2, 3, 4, 5, 6, 7, 8, 9], то код должен получать [0, 9, 2, 7, 4, 5, 6, 3, 8, 1]"
   ]
  },
  {
   "cell_type": "code",
   "execution_count": 15,
   "metadata": {
    "id": "o93nN1cJsXNy"
   },
   "outputs": [
    {
     "name": "stdout",
     "output_type": "stream",
     "text": [
      "[0, 9, 2, 7, 4, 5, 6, 3, 8, 1]\n"
     ]
    }
   ],
   "source": [
    "def reverse_list_new(lst):\n",
    "    reversed_lst = []\n",
    "    for i in range(len(lst)):\n",
    "        if i % 2 == 0:\n",
    "            reversed_lst.append(lst[i])\n",
    "        else:\n",
    "            reversed_lst.append(lst[-i])\n",
    "    return reversed_lst\n",
    "old_list = [0, 1, 2, 3, 4, 5, 6, 7, 8, 9]\n",
    "new_list = reverse_list_new(old_list)\n",
    "print(new_list)"
   ]
  },
  {
   "cell_type": "markdown",
   "metadata": {
    "id": "-qcaQystsXYY"
   },
   "source": [
    "**Задача 7.**\n",
    "\n",
    "Напишите цикл, который выводит все числа от 0 до 500, делящиеся на 7, если в них есть цифра 8."
   ]
  },
  {
   "cell_type": "code",
   "execution_count": 16,
   "metadata": {
    "id": "5-d0zkldsuvr"
   },
   "outputs": [
    {
     "name": "stdout",
     "output_type": "stream",
     "text": [
      "28\n",
      "84\n",
      "98\n",
      "168\n",
      "182\n",
      "189\n",
      "238\n",
      "280\n",
      "287\n",
      "308\n",
      "378\n",
      "385\n",
      "448\n",
      "483\n"
     ]
    }
   ],
   "source": [
    "for i in range(501):\n",
    "    if i % 7 == 0 and '8' in str(i):\n",
    "        print(i)"
   ]
  },
  {
   "cell_type": "markdown",
   "metadata": {
    "id": "CTWMY6f9su7P"
   },
   "source": [
    "**Задача 8.**\n",
    "\n",
    "На вход функция more_than_five(lst) получает список из целых чисел. \n",
    "Результатом работы функции должен стать новый список, в котором содержатся только те числа, которые больше 10 по модулю."
   ]
  },
  {
   "cell_type": "code",
   "execution_count": 17,
   "metadata": {
    "id": "ChE1X9wvtMzQ"
   },
   "outputs": [
    {
     "name": "stdout",
     "output_type": "stream",
     "text": [
      "[-11, 12, 100, -123]\n"
     ]
    }
   ],
   "source": [
    "def more_than_five(lst):\n",
    "    new_lst = [num for num in lst if abs(num) > 10]\n",
    "    return new_lst\n",
    "print(more_than_five([9,-11,12,100,-123, 2,3, 4]))"
   ]
  },
  {
   "cell_type": "markdown",
   "metadata": {
    "id": "Wexheqa8vyh7"
   },
   "source": [
    "# Дополнительный материал для желающих\n",
    "\n",
    "[Нескучный туториал по numpy](https://habr.com/ru/post/469355/)"
   ]
  },
  {
   "cell_type": "markdown",
   "metadata": {
    "id": "vTu7Ibz2CesK"
   },
   "source": [
    "# Задания"
   ]
  },
  {
   "cell_type": "markdown",
   "metadata": {
    "id": "EobX-nHRDeT5"
   },
   "source": [
    "**Задача 1.**\n",
    "\n",
    "Создать матрицу размером `10х10` с 0 внутри, и 1 на границах. Например для `3х3`.\n",
    "\n",
    "```\n",
    "1 1 1\n",
    "1 0 1\n",
    "1 1 1\n",
    "```"
   ]
  },
  {
   "cell_type": "code",
   "execution_count": 18,
   "metadata": {
    "id": "MGvbhlGHCiJR"
   },
   "outputs": [
    {
     "name": "stdout",
     "output_type": "stream",
     "text": [
      "[[1. 1. 1. 1. 1. 1. 1. 1. 1. 1.]\n",
      " [1. 0. 0. 0. 0. 0. 0. 0. 0. 1.]\n",
      " [1. 0. 0. 0. 0. 0. 0. 0. 0. 1.]\n",
      " [1. 0. 0. 0. 0. 0. 0. 0. 0. 1.]\n",
      " [1. 0. 0. 0. 0. 0. 0. 0. 0. 1.]\n",
      " [1. 0. 0. 0. 0. 0. 0. 0. 0. 1.]\n",
      " [1. 0. 0. 0. 0. 0. 0. 0. 0. 1.]\n",
      " [1. 0. 0. 0. 0. 0. 0. 0. 0. 1.]\n",
      " [1. 0. 0. 0. 0. 0. 0. 0. 0. 1.]\n",
      " [1. 1. 1. 1. 1. 1. 1. 1. 1. 1.]]\n"
     ]
    }
   ],
   "source": [
    "import numpy as np\n",
    "#size = int(input())\n",
    "size = 10\n",
    "mtrx = np.ones(shape=(size, size))\n",
    "mtrx[1:size - 1, 1:size - 1] = np.zeros(shape=(size - 2, size - 2))\n",
    "print(mtrx)"
   ]
  },
  {
   "cell_type": "code",
   "execution_count": 19,
   "metadata": {},
   "outputs": [
    {
     "data": {
      "text/plain": [
       "1"
      ]
     },
     "execution_count": 19,
     "metadata": {},
     "output_type": "execute_result"
    }
   ],
   "source": [
    "arr = np.array([1,4,3,4,5,4,4])\n",
    "\n",
    "arr.ndim\n",
    "\n",
    "\n",
    "\n",
    "\n",
    "\n",
    "\n",
    "\n",
    "\n",
    "\n",
    "\n",
    "\n",
    "\n",
    "\n",
    "\n",
    "\n"
   ]
  },
  {
   "cell_type": "markdown",
   "metadata": {
    "id": "vnY0gsMOD45W"
   },
   "source": [
    "**Задача 2.**\n",
    "\n",
    "Создать 5x5 матрицу с 1,2,3,4 над диагональю. Все остальные элементы - 0."
   ]
  },
  {
   "cell_type": "code",
   "execution_count": 20,
   "metadata": {
    "id": "tnKHSJApEY4w"
   },
   "outputs": [
    {
     "name": "stdout",
     "output_type": "stream",
     "text": [
      "[[0 1 0 0 0]\n",
      " [0 0 2 0 0]\n",
      " [0 0 0 3 0]\n",
      " [0 0 0 0 4]\n",
      " [0 0 0 0 0]]\n"
     ]
    }
   ],
   "source": [
    "mtrx = np.diag(np.arange(1, 5), k=1)\n",
    "print(mtrx)"
   ]
  },
  {
   "cell_type": "markdown",
   "metadata": {
    "id": "7R26cYEXEsWb"
   },
   "source": [
    "**Задача 3.**\n",
    "\n",
    "Создайте случайную матрицу и вычтите из каждой строки среднее."
   ]
  },
  {
   "cell_type": "code",
   "execution_count": 21,
   "metadata": {
    "id": "eNDIKZPrUbZG"
   },
   "outputs": [
    {
     "name": "stdout",
     "output_type": "stream",
     "text": [
      "[[ 0.81560561  0.33941165  0.83633566  0.7312451   0.10889849]\n",
      " [ 0.0527448   1.36933547 -1.39042727 -1.05795008 -0.37898735]\n",
      " [ 0.93798661  0.69589339 -0.78754325 -0.76185621  1.9975696 ]\n",
      " [-0.19575663 -1.13556905 -1.29207318  0.5487195   0.13811766]\n",
      " [-1.00738541 -0.96924521 -0.95131407 -0.16603253 -4.1042082 ]]\n",
      "[[ 0.24930631  0.33380169  0.52157658  0.19155571  0.43225167]\n",
      " [-0.22688765  1.65039235  0.27948337 -0.74825671  0.47039188]\n",
      " [ 0.27003636 -1.10937038 -1.20395327 -0.90476084  0.48832301]\n",
      " [ 0.1649458  -0.7768932  -1.17826624  0.93603184  1.27360456]\n",
      " [-0.45740082 -0.09793046  1.58115957  0.52543    -2.66457112]]\n"
     ]
    }
   ],
   "source": [
    "mtrx = np.random.randn(5,5)\n",
    "print(mtrx)\n",
    "mtrx = mtrx.T - np.mean(mtrx[:, :5], axis=1)\n",
    "print(mtrx)\n"
   ]
  },
  {
   "cell_type": "markdown",
   "metadata": {
    "id": "CzAqzs7ClCSn"
   },
   "source": [
    "**Задача 4.**\n",
    "\n",
    "Написать функцию, принимающую на вход массив и меняющую знак у элементов, значения которых между 3 и 8. Протестировать на нескольких заданных вами массивах."
   ]
  },
  {
   "cell_type": "code",
   "execution_count": 22,
   "metadata": {
    "id": "63Ki9lyulzec"
   },
   "outputs": [
    {
     "name": "stdout",
     "output_type": "stream",
     "text": [
      "[4 1 8 1 7 1 4 4 1 1]\n",
      "[-4  1 -8  1 -7  1 -4 -4  1  1]\n"
     ]
    }
   ],
   "source": [
    "def inverse_arr(arr: np.ndarray[float]) -> np.ndarray[float]:\n",
    "    \"\"\" Принимает на вход массив и меняет знак у элементов, значения которых между 3 и 8 \"\"\"\n",
    "\n",
    "    arr[(3 < arr) & (arr <= 8)] *= -1\n",
    "    return arr\n",
    "arr = np.random.randint(9,size=10)\n",
    "print(arr)\n",
    "print(inverse_arr(arr))"
   ]
  },
  {
   "cell_type": "markdown",
   "metadata": {
    "id": "ha_XRvz7l9rx"
   },
   "source": [
    "**Задача 4.**\n",
    "\n",
    "Написать функцию, принимающую на вход массив и вычитающую среднее из каждой строки в матрице. Протестировать на нескольких заданных вами примерах."
   ]
  },
  {
   "cell_type": "code",
   "execution_count": null,
   "metadata": {
    "id": "9nkzwep7mB5h"
   },
   "outputs": [],
   "source": []
  },
  {
   "cell_type": "markdown",
   "metadata": {
    "id": "MJJ33mtstr-a"
   },
   "source": [
    "**Задача 5.**\n",
    "\n",
    "Дан вектор [1, 2, 3, 4, 5], построить новый вектор с тремя нулями между каждым значением."
   ]
  },
  {
   "cell_type": "code",
   "execution_count": 23,
   "metadata": {
    "id": "UZLtKFY80D6f"
   },
   "outputs": [
    {
     "name": "stdout",
     "output_type": "stream",
     "text": [
      "[1. 0. 0. 0. 2. 0. 0. 0. 3. 0. 0. 0. 4. 0. 0. 0. 5.]\n"
     ]
    }
   ],
   "source": [
    "arr = np.array([1,2,3,4,5])\n",
    "nz = 3\n",
    "arr1 = np.zeros(len(arr) + (len(arr)-1)*(nz))\n",
    "arr1[::nz+1] = arr\n",
    "print(arr1)"
   ]
  },
  {
   "cell_type": "markdown",
   "metadata": {
    "id": "KU7g7UVs0EDr"
   },
   "source": [
    "**Задача 6.**\n",
    "\n",
    "\n",
    "Написать функцию, принимающую на вход матрицу MxN и меняющую 2 любые строки в матрице. Протестировать на нескольких заданных вами примерах."
   ]
  },
  {
   "cell_type": "code",
   "execution_count": 24,
   "metadata": {
    "id": "xMzdfDFuKwFw"
   },
   "outputs": [
    {
     "data": {
      "text/plain": [
       "array([[ 5,  6,  7,  8,  9],\n",
       "       [ 0,  1,  2,  3,  4],\n",
       "       [10, 11, 12, 13, 14],\n",
       "       [15, 16, 17, 18, 19],\n",
       "       [20, 21, 22, 23, 24]])"
      ]
     },
     "execution_count": 24,
     "metadata": {},
     "output_type": "execute_result"
    }
   ],
   "source": [
    "mtrx = np.arange(25).reshape(5,5)\n",
    "mtrx[[1,0]] = mtrx[[0,1]]\n",
    "mtrx"
   ]
  },
  {
   "cell_type": "markdown",
   "metadata": {
    "id": "Kiva3bYH0Z9S"
   },
   "source": [
    "**Задача 7.**\n",
    "\n",
    "\n",
    "Написать функцию, принимающую на вход одномерный массив и возвращающую наиболее частое значение в массиве и частоту его встречи. Протестировать на нескольких заданных вами примерах."
   ]
  },
  {
   "cell_type": "code",
   "execution_count": 25,
   "metadata": {
    "id": "Fmnb7-e70YdF"
   },
   "outputs": [
    {
     "name": "stdout",
     "output_type": "stream",
     "text": [
      "1\n",
      "24\n"
     ]
    }
   ],
   "source": [
    "arr = np.random.randint(5, size=100)\n",
    "number = np.bincount(arr).argmax()\n",
    "print(number)\n",
    "print(np.bincount(arr)[number])\n"
   ]
  },
  {
   "cell_type": "markdown",
   "metadata": {
    "id": "CA6upOsg0vuY"
   },
   "source": [
    "**Задача 8.** \n",
    "\n",
    "Написать функцию, принимающую на вход  массив 16x16 и считающую сумму по блокам 4x4. Протестировать на нескольких заданных вами примерах."
   ]
  },
  {
   "cell_type": "code",
   "execution_count": 26,
   "metadata": {
    "id": "biNnN0Gb056o"
   },
   "outputs": [
    {
     "name": "stdout",
     "output_type": "stream",
     "text": [
      "[[16. 16. 16. 16.]\n",
      " [16. 16. 16. 16.]\n",
      " [16. 16. 16. 16.]\n",
      " [16. 16. 16. 16.]]\n"
     ]
    }
   ],
   "source": [
    "def block_summ(mtrx: np.ndarray) -> np.ndarray:\n",
    "    \"\"\"Принимает на вход  массив 16x16 и считает сумму по блокам 4x4\"\"\"\n",
    "    k = 4\n",
    "    S = np.add.reduceat(np.add.reduceat(mtrx, np.arange(0, mtrx.shape[0], k), axis=0), np.arange(0, mtrx.shape[1], k), axis=1)\n",
    "    return S\n",
    "\n",
    "\n",
    "print(block_summ(np.ones(shape=(16,16))))"
   ]
  },
  {
   "cell_type": "markdown",
   "metadata": {
    "id": "a5jYWrLl06BY"
   },
   "source": [
    "**Задача 9.**\n",
    "\n",
    "Написать функцию, принимающую на вход матрицу и возвращающую n наибольших значений в массиве. n вводится с клавиатуры. Протестировать на нескольких заданных вами примерах."
   ]
  },
  {
   "cell_type": "code",
   "execution_count": 27,
   "metadata": {
    "id": "WflOzZRy1BRy"
   },
   "outputs": [
    {
     "name": "stdout",
     "output_type": "stream",
     "text": [
      "[5 9 8 7 6]\n"
     ]
    }
   ],
   "source": [
    "def find_largest(mtrx: np.ndarray, n: int) -> np.ndarray:\n",
    "    return mtrx[np.argpartition(-mtrx,n)[:n]]\n",
    "\n",
    "print(find_largest(np.arange(10, ), 5))\n"
   ]
  },
  {
   "cell_type": "markdown",
   "metadata": {
    "id": "UbB8AuQA1BY0"
   },
   "source": [
    "**Задача 10.**\n",
    "\n",
    "Написать функцию, принимающую на вход 10x3 матрица и находящую строки из неравных значений (например [2,2,3]). Протестировать на нескольких заданных вами примерах."
   ]
  },
  {
   "cell_type": "code",
   "execution_count": 28,
   "metadata": {
    "id": "YOKf8gMB1JCS"
   },
   "outputs": [
    {
     "name": "stdout",
     "output_type": "stream",
     "text": [
      "[[2 1 0]\n",
      " [1 2 0]\n",
      " [0 1 0]\n",
      " [1 0 2]\n",
      " [0 0 1]\n",
      " [0 2 2]\n",
      " [0 2 1]\n",
      " [2 0 0]\n",
      " [2 1 1]\n",
      " [2 0 1]]\n"
     ]
    }
   ],
   "source": [
    "def not_equel(mtrx: np.ndarray) -> np.ndarray:\n",
    "    E = np.logical_and.reduce(mtrx[:,1:] == mtrx[:,:-1], axis=1)\n",
    "    return mtrx[~E]\n",
    "\n",
    "print(not_equel(np.random.randint(3,size=(10,3))))"
   ]
  },
  {
   "cell_type": "markdown",
   "metadata": {
    "id": "kDOcG70_1JJi"
   },
   "source": [
    "**Задача 11.**\n",
    "\n",
    "Написать функцию, принимающую на вход двумерный массив и находящую все различные строки. Протестировать на нескольких заданных вами примерах."
   ]
  },
  {
   "cell_type": "code",
   "execution_count": 29,
   "metadata": {
    "id": "Z370pCG41mUU"
   },
   "outputs": [
    {
     "name": "stdout",
     "output_type": "stream",
     "text": [
      "[[0 0 0]\n",
      " [0 0 1]\n",
      " [0 1 0]\n",
      " [1 0 0]]\n"
     ]
    }
   ],
   "source": [
    "def different_rows(mtrx: np.ndarray) -> np.ndarray:\n",
    "    T = np.ascontiguousarray(mtrx).view(np.dtype((np.void, mtrx.dtype.itemsize * mtrx.shape[1])))\n",
    "    _, idx = np.unique(T, return_index=True)\n",
    "    return mtrx[idx]\n",
    "\n",
    "print(different_rows(np.random.randint(0, 2, (6,3))))\n"
   ]
  },
  {
   "cell_type": "markdown",
   "metadata": {
    "id": "xLnW1uIL1mc_"
   },
   "source": [
    "**Задача 12.**\n",
    "\n",
    "Написать функцию, принимающую на вход два вектора одинакого размера и считающую расстояние между векторами. Протестировать на нескольких заданных вами примерах."
   ]
  },
  {
   "cell_type": "code",
   "execution_count": 30,
   "metadata": {
    "id": "yYu-Qco323yW"
   },
   "outputs": [
    {
     "name": "stdout",
     "output_type": "stream",
     "text": [
      "5.196152422706632\n"
     ]
    }
   ],
   "source": [
    "def vec_dist(vec1: np.ndarray, vec2:np.ndarray) -> float:\n",
    "    distance = np.sqrt(np.dot(vec1-vec2, vec1-vec2))\n",
    "    return distance\n",
    "vec1 = np.array((0, 0, 0))\n",
    "vec2 = np.array((3, 3, 3))\n",
    "print(vec_dist(vec1, vec2))"
   ]
  },
  {
   "cell_type": "markdown",
   "metadata": {
    "id": "jcl3nZ-Y236p"
   },
   "source": [
    "**Задача 13.**\n",
    "\n",
    "Написать функцию, принимающую на вход два вектора одинакого размера и находящую косинус угла между векторами. Протестировать на нескольких заданных вами примерах."
   ]
  },
  {
   "cell_type": "code",
   "execution_count": 31,
   "metadata": {
    "id": "GjM3s2YN3NEY"
   },
   "outputs": [
    {
     "name": "stdout",
     "output_type": "stream",
     "text": [
      "0.0\n"
     ]
    }
   ],
   "source": [
    "def vec_dist(vec1: np.ndarray, vec2:np.ndarray) -> float:\n",
    "    cos = np.dot(vec1, vec2) / (np.linalg.norm(vec1) * np.linalg.norm(vec2))\n",
    "    return cos\n",
    "vec1 = np.array((1, 1, 0))\n",
    "vec2 = np.array((0, 0, 3))\n",
    "print(vec_dist(vec2, vec1))"
   ]
  },
  {
   "cell_type": "markdown",
   "metadata": {
    "id": "NOGrxa9o3WLZ"
   },
   "source": [
    "**Задача 14.**\n",
    "\n",
    "Написать функцию, принимающую на вход вектор A содержит float числа как больше, так и меньше нуля.\n",
    "\n",
    "Функция должна округлить их до целых и результат записать в глобальную переменную Z. Округление должно быть \"от нуля\", т.е.:\n",
    "\n",
    "- положительные числа округляем всегда вверх до целого\n",
    "- отрицательные числа округляем всегда вниз до целого\n",
    "- 0 остаётся 0\n",
    "\n",
    " Протестировать на нескольких заданных вами примерах.\n"
   ]
  },
  {
   "cell_type": "code",
   "execution_count": null,
   "metadata": {
    "id": "x-RztsfF37Yt"
   },
   "outputs": [],
   "source": []
  },
  {
   "cell_type": "markdown",
   "metadata": {
    "id": "6V2Z2SNX37jT"
   },
   "source": [
    "**Задача 15.**\n",
    "\n",
    "Написать функцию, принимающую на вход 2 вектора целых чисел A и B.\n",
    "\n",
    "Функция должна находить числа, встречающиеся в обоих векторах и добавлять их по возрастанию в глобальную переменную - вектор Z.\n",
    "\n",
    "*Если пересечений нет, то вектор Z будет пустым*.\n",
    "\n",
    " Протестировать на нескольких заданных вами примерах."
   ]
  },
  {
   "cell_type": "code",
   "execution_count": null,
   "metadata": {
    "id": "ThxIR2zN4PFr"
   },
   "outputs": [],
   "source": []
  },
  {
   "cell_type": "markdown",
   "metadata": {
    "id": "GeUr4BbI433N"
   },
   "source": [
    "**Задача 16.**\n",
    "\n",
    "    Написать функцию, принимающую на вход вектор и возвращающую максимальный элемент в векторе среди элементов, перед которыми стоит 0. \n",
    "\n",
    "Например для:\n",
    "\n",
    "`x = np.array([6, 2, 0, 3, 0, 0, 5, 7, 0])`\n",
    "\n",
    "Ответ:\n",
    "5"
   ]
  },
  {
   "cell_type": "code",
   "execution_count": 32,
   "metadata": {
    "id": "TVHVE4RB50Ti"
   },
   "outputs": [
    {
     "name": "stdout",
     "output_type": "stream",
     "text": [
      "8\n"
     ]
    }
   ],
   "source": [
    "x = np.array([7, 0, 8, 11, 0, 4])\n",
    "zero = x==0\n",
    "print(x[1:][zero[:-1]].max())"
   ]
  },
  {
   "cell_type": "markdown",
   "metadata": {
    "id": "3w6cbF5m438U"
   },
   "source": [
    "**Задача 17.**\n",
    "\n",
    "Написать функцию, принимающую на вход матрицу 5х3 и считающую длину каждого вектора в матрице (строка) и ищущую самый длинный вектор, вернуть его координаты и длину.\n",
    "\n",
    "Как выглядит матрица:\n",
    "\n",
    "```   \n",
    "     | x | y | z |\n",
    "     | 1 | 2 | 3 |\n",
    "     | 3 | 4 | 1 |\n",
    "     | ...       |\n",
    "```"
   ]
  }
 ],
 "metadata": {
  "kernelspec": {
   "display_name": "Python 3.10.6 64-bit",
   "language": "python",
   "name": "python3"
  },
  "language_info": {
   "codemirror_mode": {
    "name": "ipython",
    "version": 3
   },
   "file_extension": ".py",
   "mimetype": "text/x-python",
   "name": "python",
   "nbconvert_exporter": "python",
   "pygments_lexer": "ipython3",
   "version": "3.10.6"
  },
  "orig_nbformat": 4,
  "vscode": {
   "interpreter": {
    "hash": "0626d0bcffb1996347871a0750a241ba9e94f469a93550334d2d36ec7e01a9fc"
   }
  }
 },
 "nbformat": 4,
 "nbformat_minor": 2
}
